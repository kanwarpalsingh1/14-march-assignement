{
 "cells": [
  {
   "cell_type": "markdown",
   "id": "4b879895-0790-459a-9c67-889f63c60152",
   "metadata": {},
   "source": [
    "Q1. Python function to calculate F-value for a variance ratio test:"
   ]
  },
  {
   "cell_type": "code",
   "execution_count": 1,
   "id": "120a7076-b3f7-4541-b3e4-6ab3dd35fcb0",
   "metadata": {},
   "outputs": [],
   "source": [
    "import numpy as np\n",
    "from scipy.stats import f\n",
    "\n",
    "def variance_ratio_test(data1, data2):\n",
    "    n1 = len(data1)\n",
    "    n2 = len(data2)\n",
    "    \n",
    "    # Calculate sample variances\n",
    "    var1 = np.var(data1, ddof=1)\n",
    "    var2 = np.var(data2, ddof=1)\n",
    "    \n",
    "    # Calculate F-value\n",
    "    F = var1 / var2 if var1 >= var2 else var2 / var1\n",
    "    \n",
    "    # Calculate degrees of freedom\n",
    "    df1 = n1 - 1\n",
    "    df2 = n2 - 1\n",
    "    \n",
    "    # Calculate p-value\n",
    "    p_value = f.cdf(F, df1, df2) if var1 >= var2 else 1 - f.cdf(F, df1, df2)\n",
    "    \n",
    "    return F, p_value"
   ]
  },
  {
   "cell_type": "markdown",
   "id": "bd7cfc4c-12b0-47cb-b888-3314e72a605e",
   "metadata": {},
   "source": [
    "Q2. Python function to calculate critical F-value for a two-tailed test:"
   ]
  },
  {
   "cell_type": "code",
   "execution_count": 2,
   "id": "1d69c064-909a-4376-91f8-716a647dd428",
   "metadata": {},
   "outputs": [],
   "source": [
    "from scipy.stats import f\n",
    "\n",
    "def critical_f_value(alpha, dfn, dfd):\n",
    "    return f.ppf(1 - alpha / 2, dfn, dfd)"
   ]
  },
  {
   "cell_type": "markdown",
   "id": "a8798a0b-493f-4707-a0a1-26c127d03e67",
   "metadata": {},
   "source": [
    "Q3. Python program to generate random samples and perform an F-test"
   ]
  },
  {
   "cell_type": "code",
   "execution_count": 3,
   "id": "5c133483-03c6-4873-95b2-3d17ec9c392b",
   "metadata": {},
   "outputs": [
    {
     "name": "stdout",
     "output_type": "stream",
     "text": [
      "F-value: 2.371177811755986\n",
      "Degrees of freedom: 99 , 99\n",
      "P-value: 1.217507571937837e-05\n"
     ]
    }
   ],
   "source": [
    "import numpy as np\n",
    "from scipy.stats import f\n",
    "\n",
    "def f_test(data1, data2):\n",
    "    n1 = len(data1)\n",
    "    n2 = len(data2)\n",
    "    \n",
    "    # Calculate sample variances\n",
    "    var1 = np.var(data1, ddof=1)\n",
    "    var2 = np.var(data2, ddof=1)\n",
    "    \n",
    "    # Calculate F-value\n",
    "    F = var1 / var2 if var1 >= var2 else var2 / var1\n",
    "    \n",
    "    # Calculate degrees of freedom\n",
    "    df1 = n1 - 1\n",
    "    df2 = n2 - 1\n",
    "    \n",
    "    # Calculate p-value\n",
    "    p_value = f.cdf(F, df1, df2) if var1 >= var2 else 1 - f.cdf(F, df1, df2)\n",
    "    \n",
    "    return F, df1, df2, p_value\n",
    "\n",
    "# Generate random samples from two normal distributions\n",
    "np.random.seed(0)\n",
    "data1 = np.random.normal(loc=0, scale=1, size=100)\n",
    "data2 = np.random.normal(loc=0, scale=1.5, size=100)\n",
    "\n",
    "# Perform F-test\n",
    "F, df1, df2, p_value = f_test(data1, data2)\n",
    "\n",
    "print(\"F-value:\", F)\n",
    "print(\"Degrees of freedom:\", df1, \",\", df2)\n",
    "print(\"P-value:\", p_value)"
   ]
  },
  {
   "cell_type": "markdown",
   "id": "9b2422bd-4aee-4c9e-b127-d2b003fd5d52",
   "metadata": {},
   "source": [
    "Q4. Conducting F-test for known population variances"
   ]
  },
  {
   "cell_type": "code",
   "execution_count": 4,
   "id": "0e4f98b0-8348-4996-9698-06dc0070ddcc",
   "metadata": {},
   "outputs": [
    {
     "name": "stdout",
     "output_type": "stream",
     "text": [
      "F-value: 1.5\n",
      "Degrees of freedom: 11 , 11\n",
      "P-value: 0.25619489936789974\n"
     ]
    }
   ],
   "source": [
    "from scipy.stats import f\n",
    "\n",
    "var1 = 10\n",
    "var2 = 15\n",
    "n1 = 12\n",
    "n2 = 12\n",
    "\n",
    "# Calculate F-value\n",
    "F = var1 / var2 if var1 >= var2 else var2 / var1\n",
    "\n",
    "# Calculate degrees of freedom\n",
    "df1 = n1 - 1\n",
    "df2 = n2 - 1\n",
    "\n",
    "# Calculate p-value\n",
    "p_value = f.cdf(F, df1, df2) if var1 >= var2 else 1 - f.cdf(F, df1, df2)\n",
    "\n",
    "print(\"F-value:\", F)\n",
    "print(\"Degrees of freedom:\", df1, \",\", df2)\n",
    "print(\"P-value:\", p_value)"
   ]
  },
  {
   "cell_type": "markdown",
   "id": "87514b9a-5c55-404d-a922-44bc93b0daa2",
   "metadata": {},
   "source": [
    "Q5. Conducting F-test for claimed variance:"
   ]
  },
  {
   "cell_type": "code",
   "execution_count": 5,
   "id": "463a9176-2c80-450f-aeb9-e805919f74ee",
   "metadata": {},
   "outputs": [
    {
     "name": "stdout",
     "output_type": "stream",
     "text": [
      "F-value: 1.2\n",
      "Degrees of freedom: 24 , 24\n",
      "P-value: 0.6706345317182756\n"
     ]
    }
   ],
   "source": [
    "from scipy.stats import f\n",
    "\n",
    "var_claimed = 0.005\n",
    "sample_var = 0.006\n",
    "n = 25\n",
    "\n",
    "# Calculate F-value\n",
    "F = sample_var / var_claimed\n",
    "\n",
    "# Degrees of freedom\n",
    "dfn = n - 1\n",
    "dfd = n - 1\n",
    "\n",
    "# Calculate p-value\n",
    "p_value = f.cdf(F, dfn, dfd)\n",
    "\n",
    "print(\"F-value:\", F)\n",
    "print(\"Degrees of freedom:\", dfn, \",\", dfd)\n",
    "print(\"P-value:\", p_value)"
   ]
  },
  {
   "cell_type": "markdown",
   "id": "ff63225d-b77c-4c4c-a384-5b0b1d5faa83",
   "metadata": {},
   "source": [
    "\n",
    "Q6. Python function to calculate the mean and variance of an F-distribution:"
   ]
  },
  {
   "cell_type": "code",
   "execution_count": 6,
   "id": "25e8937a-6783-4ac3-8eb4-30a62fe7cd99",
   "metadata": {},
   "outputs": [],
   "source": [
    "def f_distribution_mean_variance(dfn, dfd):\n",
    "    mean = dfd / (dfd - 2) if dfd > 2 else None\n",
    "    variance = (2 * (dfd ** 2) * (dfn + dfd - 2)) / ((dfn * (dfd - 2) ** 2 * (dfd - 4))) if dfd > 4 else None\n",
    "    return mean, variance"
   ]
  },
  {
   "cell_type": "markdown",
   "id": "79c47d3a-8875-4d9b-b924-9b863bbb2faa",
   "metadata": {},
   "source": [
    "Q7. Conducting an F-test for two sample variances:"
   ]
  },
  {
   "cell_type": "code",
   "execution_count": 8,
   "id": "a1c56f1e-84f7-49c9-a9c3-7261c5fac487",
   "metadata": {},
   "outputs": [
    {
     "name": "stdout",
     "output_type": "stream",
     "text": [
      "F-value: 1.25\n",
      "Degrees of freedom: 9 , 14\n",
      "P-value: 0.6583902808707023\n",
      "Fail to reject null hypothesis: Variances are not significantly different.\n"
     ]
    }
   ],
   "source": [
    "from scipy.stats import f\n",
    "\n",
    "# Sample variances\n",
    "var1 = 25\n",
    "var2 = 20\n",
    "\n",
    "# Degrees of freedom\n",
    "dfn1 = 10 - 1\n",
    "dfn2 = 15 - 1\n",
    "\n",
    "# Calculate F-value\n",
    "F = var1 / var2\n",
    "\n",
    "# Calculate p-value\n",
    "p_value = f.cdf(F, dfn1, dfn2)\n",
    "\n",
    "alpha = 0.10\n",
    "\n",
    "print(\"F-value:\", F)\n",
    "print(\"Degrees of freedom:\", dfn1, \",\", dfn2)\n",
    "print(\"P-value:\", p_value)\n",
    "\n",
    "if p_value < alpha:\n",
    "    print(\"Reject null hypothesis: Variances are significantly different.\")\n",
    "else:\n",
    "    print(\"Fail to reject null hypothesis: Variances are not significantly different.\")"
   ]
  },
  {
   "cell_type": "markdown",
   "id": "89167931-03bf-4117-87fd-810da722deea",
   "metadata": {},
   "source": [
    "Q8. Conducting an F-test for two sets of data:"
   ]
  },
  {
   "cell_type": "code",
   "execution_count": 9,
   "id": "a28550b2-283c-413d-a086-25cb300a21e0",
   "metadata": {},
   "outputs": [
    {
     "name": "stdout",
     "output_type": "stream",
     "text": [
      "F-value: 1.4551907719609583\n",
      "Degrees of freedom: 6 , 5\n",
      "P-value: 0.6512592126031258\n",
      "Fail to reject null hypothesis: Variances are not significantly different.\n"
     ]
    }
   ],
   "source": [
    "from scipy.stats import f\n",
    "\n",
    "# Waiting times\n",
    "waiting_times_A = [24, 25, 28, 23, 22, 20, 27]\n",
    "waiting_times_B = [31, 33, 35, 30, 32, 36]\n",
    "\n",
    "# Sample variances\n",
    "var_A = np.var(waiting_times_A, ddof=1)\n",
    "var_B = np.var(waiting_times_B, ddof=1)\n",
    "\n",
    "# Degrees of freedom\n",
    "dfn_A = len(waiting_times_A) - 1\n",
    "dfn_B = len(waiting_times_B) - 1\n",
    "\n",
    "# Calculate F-value\n",
    "F = var_A / var_B if var_A >= var_B else var_B / var_A\n",
    "\n",
    "# Calculate p-value\n",
    "p_value = f.cdf(F, dfn_A, dfn_B) if var_A >= var_B else 1 - f.cdf(F, dfn_A, dfn_B)\n",
    "\n",
    "alpha = 0.05\n",
    "\n",
    "print(\"F-value:\", F)\n",
    "print(\"Degrees of freedom:\", dfn_A, \",\", dfn_B)\n",
    "print(\"P-value:\", p_value)\n",
    "\n",
    "if p_value < alpha:\n",
    "    print(\"Reject null hypothesis: Variances are significantly different.\")\n",
    "else:\n",
    "    print(\"Fail to reject null hypothesis: Variances are not significantly different.\")"
   ]
  },
  {
   "cell_type": "markdown",
   "id": "a3439845-9c79-427e-a3ec-3f79211eff1c",
   "metadata": {},
   "source": [
    "Q9. Conducting an F-test for two groups of test scores:"
   ]
  },
  {
   "cell_type": "code",
   "execution_count": 10,
   "id": "9eae8e53-142d-4fa5-87cb-d5db35d26c4b",
   "metadata": {},
   "outputs": [
    {
     "name": "stdout",
     "output_type": "stream",
     "text": [
      "F-value: 1.9442622950819677\n",
      "Degrees of freedom: 5 , 5\n",
      "P-value: 0.7584478225464656\n",
      "Fail to reject null hypothesis: Variances are not significantly different.\n"
     ]
    }
   ],
   "source": [
    "from scipy.stats import f\n",
    "\n",
    "# Test scores\n",
    "test_scores_A = [80, 85, 90, 92, 87, 83]\n",
    "test_scores_B = [75, 78, 82, 79, 81, 84]\n",
    "\n",
    "# Sample variances\n",
    "var_A = np.var(test_scores_A, ddof=1)\n",
    "var_B = np.var(test_scores_B, ddof=1)\n",
    "\n",
    "# Degrees of freedom\n",
    "dfn_A = len(test_scores_A) - 1\n",
    "dfn_B = len(test_scores_B) - 1\n",
    "\n",
    "# Calculate F-value\n",
    "F = var_A / var_B if var_A >= var_B else var_B / var_A\n",
    "\n",
    "# Calculate p-value\n",
    "p_value = f.cdf(F, dfn_A, dfn_B) if var_A >= var_B else 1 - f.cdf(F, dfn_A, dfn_B)\n",
    "\n",
    "alpha = 0.01\n",
    "\n",
    "print(\"F-value:\", F)\n",
    "print(\"Degrees of freedom:\", dfn_A, \",\", dfn_B)\n",
    "print(\"P-value:\", p_value)\n",
    "\n",
    "if p_value < alpha:\n",
    "    print(\"Reject null hypothesis: Variances are significantly different.\")\n",
    "else:\n",
    "    print(\"Fail to reject null hypothesis: Variances are not significantly different.\")"
   ]
  },
  {
   "cell_type": "code",
   "execution_count": null,
   "id": "7901f96a-20fd-48b7-a9be-3b99f8842130",
   "metadata": {},
   "outputs": [],
   "source": []
  }
 ],
 "metadata": {
  "kernelspec": {
   "display_name": "Python 3 (ipykernel)",
   "language": "python",
   "name": "python3"
  },
  "language_info": {
   "codemirror_mode": {
    "name": "ipython",
    "version": 3
   },
   "file_extension": ".py",
   "mimetype": "text/x-python",
   "name": "python",
   "nbconvert_exporter": "python",
   "pygments_lexer": "ipython3",
   "version": "3.10.8"
  }
 },
 "nbformat": 4,
 "nbformat_minor": 5
}
